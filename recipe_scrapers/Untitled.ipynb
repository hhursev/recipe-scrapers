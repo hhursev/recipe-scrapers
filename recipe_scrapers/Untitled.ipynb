{
 "cells": [
  {
   "cell_type": "code",
   "execution_count": 12,
   "id": "58931a53-478f-4153-99b3-939d85674dd1",
   "metadata": {},
   "outputs": [],
   "source": [
    "from recipe_scrapers import scrape_me\n",
    "from recipe_scrapers._utils import normalize_string\n",
    "\n",
    "# give the url as a string, it can be url from any site listed below\n",
    "scraper = scrape_me('https://www.allrecipes.com/recipe/158968/spinach-and-feta-turkey-burgers/')"
   ]
  },
  {
   "cell_type": "code",
   "execution_count": 6,
   "id": "cdf95b01-aedc-41e6-8c91-ac20b80f1a14",
   "metadata": {},
   "outputs": [],
   "source": [
    "scraper.category()"
   ]
  },
  {
   "cell_type": "code",
   "execution_count": 8,
   "id": "ce2b7179-ef8b-4685-927e-2d3b878b6ded",
   "metadata": {},
   "outputs": [],
   "source": [
    "bb = scrape_me('https://briceletbaklava.ch/2021/08/burli-de-saint-gall-st.galler-burli.html')"
   ]
  },
  {
   "cell_type": "code",
   "execution_count": 9,
   "id": "31a3f312-fdfe-4d04-9527-972c12341306",
   "metadata": {},
   "outputs": [
    {
     "data": {
      "text/plain": [
       "'Boulangerie,Recettes de pains'"
      ]
     },
     "execution_count": 9,
     "metadata": {},
     "output_type": "execute_result"
    }
   ],
   "source": [
    "bb.category()"
   ]
  },
  {
   "cell_type": "code",
   "execution_count": 14,
   "id": "b2b52789-fa0b-40a8-b51d-ad2ce76d9ceb",
   "metadata": {},
   "outputs": [],
   "source": [
    "cat = bb.soup.find_all('a', {'class' : 'Post-tag'})"
   ]
  },
  {
   "cell_type": "code",
   "execution_count": 17,
   "id": "c09b7181-f27f-4aef-bed8-5b976c8fad9c",
   "metadata": {},
   "outputs": [
    {
     "data": {
      "text/plain": [
       "['Boulangerie', 'Recettes de pains']"
      ]
     },
     "execution_count": 17,
     "metadata": {},
     "output_type": "execute_result"
    }
   ],
   "source": [
    "[normalize_string(c.get_text()) for c in cat]"
   ]
  },
  {
   "cell_type": "code",
   "execution_count": null,
   "id": "60258900-bfa2-479d-a40e-04ee084567e9",
   "metadata": {},
   "outputs": [],
   "source": []
  }
 ],
 "metadata": {
  "kernelspec": {
   "display_name": "Python 3 (ipykernel)",
   "language": "python",
   "name": "python3"
  },
  "language_info": {
   "codemirror_mode": {
    "name": "ipython",
    "version": 3
   },
   "file_extension": ".py",
   "mimetype": "text/x-python",
   "name": "python",
   "nbconvert_exporter": "python",
   "pygments_lexer": "ipython3",
   "version": "3.10.8"
  },
  "widgets": {
   "application/vnd.jupyter.widget-state+json": {
    "state": {},
    "version_major": 2,
    "version_minor": 0
   }
  }
 },
 "nbformat": 4,
 "nbformat_minor": 5
}
